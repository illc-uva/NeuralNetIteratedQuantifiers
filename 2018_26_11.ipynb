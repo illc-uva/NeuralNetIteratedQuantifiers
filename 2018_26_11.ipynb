{
 "cells": [
  {
   "cell_type": "code",
   "execution_count": 1,
   "metadata": {},
   "outputs": [],
   "source": [
    "%matplotlib inline\n",
    "\n",
    "import numpy as np\n",
    "from matplotlib import pyplot as plt\n",
    "import seaborn as sns\n",
    "from plotnine import *\n",
    "\n",
    "import tests\n",
    "import population\n",
    "import utilities"
   ]
  },
  {
   "cell_type": "markdown",
   "metadata": {},
   "source": [
    "Load the data (NB: first runs had awkward filenames)."
   ]
  },
  {
   "cell_type": "code",
   "execution_count": 2,
   "metadata": {},
   "outputs": [],
   "source": [
    "bottleneck_715 = [np.load('comms/bottleneck715_ngen10000_nagt10_len10_trial{{{}}}.out.npy'.format(idx))\n",
    "                  for idx in range(1, 11)]\n",
    "bottleneck_512 = [np.load('comms/bottleneck512_ngen10000_nagt10_len10_trial{{{}}}.out.npy'.format(idx))\n",
    "                  for idx in range(1, 11)]"
   ]
  },
  {
   "cell_type": "code",
   "execution_count": 3,
   "metadata": {},
   "outputs": [],
   "source": [
    "def first_n(data_list, n):\n",
    "    return [data[:n] for data in data_list]\n",
    "\n",
    "def last_n(data_list, n):\n",
    "    return [data[-n:] for data in data_list]"
   ]
  },
  {
   "cell_type": "code",
   "execution_count": 4,
   "metadata": {},
   "outputs": [],
   "source": [
    "first10_715 = first_n(bottleneck_715, 10)\n",
    "last250_715 = last_n(bottleneck_715, 250)"
   ]
  },
  {
   "cell_type": "code",
   "execution_count": 5,
   "metadata": {},
   "outputs": [
    {
     "data": {
      "text/plain": [
       "<module 'tests' from '/Users/shanest/GoogleDrive/Amsterdam/CoSaQ/projects/iterated-nn/NeuralNetIteratedQuantifiers/tests.py'>"
      ]
     },
     "execution_count": 5,
     "metadata": {},
     "output_type": "execute_result"
    }
   ],
   "source": [
    "from importlib import reload\n",
    "reload(tests)"
   ]
  },
  {
   "cell_type": "code",
   "execution_count": 6,
   "metadata": {},
   "outputs": [],
   "source": [
    "# tests.monotonicity_memoized.cache_clear()"
   ]
  },
  {
   "cell_type": "code",
   "execution_count": null,
   "metadata": {},
   "outputs": [
    {
     "name": "stdout",
     "output_type": "stream",
     "text": [
      "[[0 0 0 ... 0 0 0]\n",
      " [1 0 0 ... 0 0 0]\n",
      " [0 1 0 ... 0 0 0]\n",
      " ...\n",
      " [1 0 1 ... 1 1 1]\n",
      " [0 1 1 ... 1 1 1]\n",
      " [1 1 1 ... 1 1 1]]\n",
      "[[0 0 0 ... 0 0 0]\n",
      " [1 0 0 ... 0 0 0]\n",
      " [0 1 0 ... 0 0 0]\n",
      " ...\n",
      " [1 0 1 ... 1 1 1]\n",
      " [0 1 1 ... 1 1 1]\n",
      " [1 1 1 ... 1 1 1]]\n",
      "0.504671875\n"
     ]
    }
   ],
   "source": [
    "models = utilities.generate_list_inputs(10)\n",
    "print(models)\n",
    "print(np.frombuffer(models.tostring(), dtype=int).reshape((2**10, -1)))\n",
    "\n",
    "def property_of_generations(prop, data_list, n_agts):\n",
    "    return [prop(models.tostring(), np.around(data[gen, :, agt]).astype(int).tostring())\n",
    "            for data in data_list\n",
    "            for gen in range(len(data))\n",
    "            for agt in range(n_agts)]\n",
    "\n",
    "print(tests.monotonicity_memoized(models.tostring(), np.random.randint(2, size=2**10).tostring()))\n",
    "\n",
    "f10_bn715_mons = property_of_generations(tests.monotonicity_memoized, first10_715, 10)\n",
    "l250_bn715_mons = property_of_generations(tests.monotonicity_memoized, last250_715, 10)"
   ]
  },
  {
   "cell_type": "code",
   "execution_count": 10,
   "metadata": {},
   "outputs": [
    {
     "data": {
      "text/plain": [
       "<matplotlib.axes._subplots.AxesSubplot at 0x1c7e88e400>"
      ]
     },
     "execution_count": 10,
     "metadata": {},
     "output_type": "execute_result"
    },
    {
     "data": {
      "image/png": "[encoded data removed]",
      "text/plain": [
       "<Figure size 432x288 with 1 Axes>"
      ]
     },
     "metadata": {
      "needs_background": "light"
     },
     "output_type": "display_data"
    }
   ],
   "source": [
    "sns.distplot(f10_bn715_mons, label='first_10')"
   ]
  },
  {
   "cell_type": "code",
   "execution_count": null,
   "metadata": {},
   "outputs": [],
   "source": []
  }
 ],
 "metadata": {
  "kernelspec": {
   "display_name": "Python 3",
   "language": "python",
   "name": "python3"
  },
  "language_info": {
   "codemirror_mode": {
    "name": "ipython",
    "version": 3
   },
   "file_extension": ".py",
   "mimetype": "text/x-python",
   "name": "python",
   "nbconvert_exporter": "python",
   "pygments_lexer": "ipython3",
   "version": "3.7.0"
  }
 },
 "nbformat": 4,
 "nbformat_minor": 2
}
